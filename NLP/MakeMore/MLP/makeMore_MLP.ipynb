{
 "cells": [
  {
   "cell_type": "markdown",
   "metadata": {},
   "source": [
    "# MakeMore \n",
    "### Character-level language modeling with context\n",
    "Inspired by: [A Neural Probabilistic Language Model](https://www.jmlr.org/papers/volume3/bengio03a/bengio03a.pdf)\n",
    "\n",
    "This notebook explores character-level language modeling. It includes data preprocessing, dataset construction, training a neural network, and generating text based on learned character relationships."
   ]
  },
  {
   "cell_type": "markdown",
   "metadata": {},
   "source": [
    "## Imports"
   ]
  },
  {
   "cell_type": "code",
   "execution_count": 150,
   "metadata": {},
   "outputs": [],
   "source": [
    "import torch\n",
    "import torch.nn.functional as F\n",
    "import matplotlib.pyplot as plt\n",
    "import random\n",
    "%matplotlib inline"
   ]
  },
  {
   "cell_type": "markdown",
   "metadata": {},
   "source": [
    "## Loading and Processing the Data\n",
    "We load the data (e.g., a list of names) from a text file and create mappings between characters and indices:\n",
    "\n",
    "* `s2i`: Maps each character to a unique index,\n",
    "* `i2s`: Maps indices back to their respective characters.\n",
    "\n",
    "We also include a special marker (`.`) for word boundaries."
   ]
  },
  {
   "cell_type": "code",
   "execution_count": 3,
   "metadata": {},
   "outputs": [
    {
     "data": {
      "text/plain": [
       "['emma',\n",
       " 'olivia',\n",
       " 'ava',\n",
       " 'isabella',\n",
       " 'sophia',\n",
       " 'charlotte',\n",
       " 'mia',\n",
       " 'amelia',\n",
       " 'harper',\n",
       " 'evelyn']"
      ]
     },
     "execution_count": 3,
     "metadata": {},
     "output_type": "execute_result"
    }
   ],
   "source": [
    "words = open('../names.txt', 'r').read().splitlines()\n",
    "words[:10]"
   ]
  },
  {
   "cell_type": "code",
   "execution_count": 4,
   "metadata": {},
   "outputs": [
    {
     "data": {
      "text/plain": [
       "32033"
      ]
     },
     "execution_count": 4,
     "metadata": {},
     "output_type": "execute_result"
    }
   ],
   "source": [
    "len(words)"
   ]
  },
  {
   "cell_type": "code",
   "execution_count": 5,
   "metadata": {},
   "outputs": [
    {
     "name": "stdout",
     "output_type": "stream",
     "text": [
      "{1: 'a', 2: 'b', 3: 'c', 4: 'd', 5: 'e', 6: 'f', 7: 'g', 8: 'h', 9: 'i', 10: 'j', 11: 'k', 12: 'l', 13: 'm', 14: 'n', 15: 'o', 16: 'p', 17: 'q', 18: 'r', 19: 's', 20: 't', 21: 'u', 22: 'v', 23: 'w', 24: 'x', 25: 'y', 26: 'z', 0: '.'}\n"
     ]
    }
   ],
   "source": [
    "chars = sorted(list(set(''.join(words))))\n",
    "s2i = {s:i+1 for i,s in enumerate(chars)}\n",
    "s2i['.'] = 0\n",
    "\n",
    "i2s = {i:s for s,i in s2i.items()}\n",
    "\n",
    "print(i2s)"
   ]
  },
  {
   "cell_type": "markdown",
   "metadata": {},
   "source": [
    "## Building the Dataset\n",
    "The function build_dataset converts words into input-output pairs:\n",
    "\n",
    "* Input (X): A context of fixed length (e.g., the previous 3 characters),\n",
    "* Output (Y): The next character in the sequence.\n",
    "\n",
    "The dataset is split into:\n",
    "\n",
    "* Training set: 80% of the data,\n",
    "* Validation set: 10%,\n",
    "* Test set: 10%."
   ]
  },
  {
   "cell_type": "code",
   "execution_count": 151,
   "metadata": {},
   "outputs": [
    {
     "name": "stdout",
     "output_type": "stream",
     "text": [
      "torch.Size([182625, 3]) torch.Size([182625])\n",
      "torch.Size([22655, 3]) torch.Size([22655])\n",
      "torch.Size([22866, 3]) torch.Size([22866])\n"
     ]
    }
   ],
   "source": [
    "def build_dataset(words, block_size=3):\n",
    "  \"\"\"\n",
    "  words: list of words \n",
    "  block_size: context lenght - how many characters do we take to predict the next one\n",
    "\n",
    "  returns: X, Y\n",
    "  \"\"\"\n",
    "  X, Y = [], []\n",
    "  for word in words:\n",
    "    # print(word)\n",
    "    context = [0] * block_size\n",
    "    for ch in word + '.':\n",
    "      idx = s2i[ch]\n",
    "      X.append(context)\n",
    "      Y.append(idx)\n",
    "      # print(''.join(i2s[i] for i in context), '--->', i2s[idx] )\n",
    "      context = context[1:] + [idx]\n",
    "  X = torch.tensor(X)\n",
    "  Y = torch.tensor(Y)\n",
    "  print(X.shape, Y.shape)\n",
    "  return X, Y\n",
    "\n",
    "random.seed(42)\n",
    "random.shuffle(words)\n",
    "n1 = int(0.8*len(words)) # 80% of the data\n",
    "m2 = int(0.9*len(words)) # 90% of the data\n",
    "\n",
    "Xtrain, Ytrain = build_dataset(words[:n1])\n",
    "Xval, Yval = build_dataset(words[n1:m2])\n",
    "Xtest, Ytest = build_dataset(words[m2:])"
   ]
  },
  {
   "cell_type": "markdown",
   "metadata": {},
   "source": [
    "## Building the Model\n",
    "The neural network consists of:\n",
    "\n",
    "1. Embedding matrix (C): Converts characters into vector representations.\n",
    "2. Hidden layer: A fully connected layer with tanh activation.\n",
    "3. Output layer: Produces logits for each possible character.\n",
    "\n",
    "The parameters of the model are initialized randomly and optimized using backpropagation."
   ]
  },
  {
   "cell_type": "code",
   "execution_count": 242,
   "metadata": {},
   "outputs": [],
   "source": [
    "gen = torch.Generator().manual_seed(42)\n",
    "C = torch.randn((27,10), generator=gen) # 27 characters, 10 dimensions\n",
    "W1 = torch.randn((30,200), generator=gen)\n",
    "b1 = torch.randn(200, generator=gen)\n",
    "\n",
    "W2 = torch.randn((200,27), generator=gen)\n",
    "b2 = torch.randn(27, generator=gen)\n",
    "parameters = [C, W1, b1, W2, b2]"
   ]
  },
  {
   "cell_type": "code",
   "execution_count": 243,
   "metadata": {},
   "outputs": [
    {
     "data": {
      "text/plain": [
       "11897"
      ]
     },
     "execution_count": 243,
     "metadata": {},
     "output_type": "execute_result"
    }
   ],
   "source": [
    "sum(p.nelement() for p in parameters) # number of parameters in total"
   ]
  },
  {
   "cell_type": "markdown",
   "metadata": {},
   "source": [
    "## Training the Model\n",
    "### Process Overview:\n",
    "1. Mini-batch sampling: Randomly select data samples.\n",
    "2. Forward pass: Compute the loss (cross-entropy).\n",
    "3. Backward pass: Calculate gradients using backpropagation.\n",
    "4. Parameter update: Adjust weights using gradient descent.\n",
    "\n",
    "Learning rates are dynamically adjusted during training:\n",
    "\n",
    "* 0.1: For the first 100,000 iterations,\n",
    "* 0.01: For the next 50,000 iterations,\n",
    "* 0.001: For the remaining iterations."
   ]
  },
  {
   "cell_type": "code",
   "execution_count": 244,
   "metadata": {},
   "outputs": [],
   "source": [
    "for p in parameters:\n",
    "  p.requires_grad = True"
   ]
  },
  {
   "cell_type": "code",
   "execution_count": 245,
   "metadata": {},
   "outputs": [],
   "source": [
    "lre = torch.linspace(-3,0,1000)\n",
    "lrs = 10**lre"
   ]
  },
  {
   "cell_type": "code",
   "execution_count": 246,
   "metadata": {},
   "outputs": [],
   "source": [
    "lri = []\n",
    "lossi = []\n",
    "stepi = []\n",
    "for i in range(200000):\n",
    "\n",
    "  # mini batch\n",
    "  idx = torch.randint(0,Xtrain.shape[0],(32,))\n",
    "  \n",
    "\n",
    "  # forward pass\n",
    "  emb = C[Xtrain[idx]] # 32x3x2\n",
    "  h = torch.tanh(emb.view(-1,30) @ W1 + b1) # 32x200\n",
    "  logits = h @ W2 + b2 # 32x27\n",
    "  # efficient way to calculate the loss\n",
    "  loss = F.cross_entropy(logits, Ytrain[idx])\n",
    "  # print(loss.item())\n",
    "  # backaward pass\n",
    "  for p in parameters:\n",
    "    p.grad = None\n",
    "  loss.backward()\n",
    "  # update\n",
    "  # lr = lrs[i]\n",
    "  lr = 0.1 if i < 100000 else 0.01 if i < 150000 else 0.001 \n",
    "  for p in parameters:\n",
    "    p.data -= p.grad * lr\n",
    "\n",
    "  #track stats\n",
    "  # lri.append(lre[i])\n",
    "  stepi.append(i)\n",
    "  lossi.append(loss.log10().item())\n",
    "\n",
    "\n",
    "# print(loss.item())\n"
   ]
  },
  {
   "cell_type": "markdown",
   "metadata": {},
   "source": [
    "non-efeficient way to calculate the loss\n",
    "\n",
    "counts = logits.exp() # if logits are large, the exp() will be large or even infinite witch will cause numerical instability\n",
    "\n",
    "For example logits = torch.tensor([-100, 0, 100]); counts = logits.exp() will return [0., 1, inf] and counts.sum() will be inf so probs will return nan. To avoid this we can subtract the maximum value from the logits to make the largest value 0. -> logits - logits.max() = [-200, -100, 0] -> counts = logits.exp() = [0., 0., 1] \n",
    "\n",
    "probs = counts / counts.sum(dim=1, keepdim=True)\n",
    "\n",
    "loss = -probs[torch.arange(32),Y].log().mean()"
   ]
  },
  {
   "cell_type": "markdown",
   "metadata": {},
   "source": [
    "## Model Evaluation\n",
    "The model is evaluated on training, validation, and test sets. Loss values are computed using cross-entropy, and their trends are visualized over the training steps."
   ]
  },
  {
   "cell_type": "code",
   "execution_count": 247,
   "metadata": {},
   "outputs": [
    {
     "data": {
      "text/plain": [
       "[<matplotlib.lines.Line2D at 0x1911ef8e050>]"
      ]
     },
     "execution_count": 247,
     "metadata": {},
     "output_type": "execute_result"
    },
    {
     "data": {
      "image/png": "[encoded data removed]",
      "text/plain": [
       "<Figure size 640x480 with 1 Axes>"
      ]
     },
     "metadata": {},
     "output_type": "display_data"
    }
   ],
   "source": [
    "plt.plot(stepi,lossi)"
   ]
  },
  {
   "cell_type": "code",
   "execution_count": 248,
   "metadata": {},
   "outputs": [
    {
     "data": {
      "text/plain": [
       "2.1131794452667236"
      ]
     },
     "execution_count": 248,
     "metadata": {},
     "output_type": "execute_result"
    }
   ],
   "source": [
    "emb = C[Xtrain] # 32x3x2\n",
    "h = torch.tanh(emb.view(-1,30) @ W1 + b1) # 32x200\n",
    "logits = h@ W2 + b2 # 32x27\n",
    "# efficient way to calculate the loss\n",
    "loss = F.cross_entropy(logits, Ytrain)\n",
    "loss.item()"
   ]
  },
  {
   "cell_type": "code",
   "execution_count": 249,
   "metadata": {},
   "outputs": [
    {
     "data": {
      "text/plain": [
       "2.148298978805542"
      ]
     },
     "execution_count": 249,
     "metadata": {},
     "output_type": "execute_result"
    }
   ],
   "source": [
    "emb = C[Xval] # 32x3x2\n",
    "h = torch.tanh(emb.view(-1,30) @ W1 + b1) # 32x200\n",
    "logits = h@ W2 + b2 # 32x27\n",
    "# efficient way to calculate the loss\n",
    "loss = F.cross_entropy(logits, Yval)\n",
    "loss.item()"
   ]
  },
  {
   "cell_type": "code",
   "execution_count": 251,
   "metadata": {},
   "outputs": [
    {
     "data": {
      "text/plain": [
       "2.146045446395874"
      ]
     },
     "execution_count": 251,
     "metadata": {},
     "output_type": "execute_result"
    }
   ],
   "source": [
    "emb = C[Xtest] # 32x3x2\n",
    "h = torch.tanh(emb.view(-1,30) @ W1 + b1) # 32x200\n",
    "logits = h@ W2 + b2 # 32x27\n",
    "# efficient way to calculate the loss\n",
    "loss = F.cross_entropy(logits, Ytest)\n",
    "loss.item()"
   ]
  },
  {
   "cell_type": "markdown",
   "metadata": {},
   "source": [
    "### Character Embedding Visualization\n",
    "The code generates a 2D scatter plot of character embeddings (projected onto the first two dimensions). Each character is labeled with its symbol."
   ]
  },
  {
   "cell_type": "code",
   "execution_count": 252,
   "metadata": {},
   "outputs": [
    {
     "data": {
      "image/png": "[encoded data removed]",
      "text/plain": [
       "<Figure size 800x800 with 1 Axes>"
      ]
     },
     "metadata": {},
     "output_type": "display_data"
    }
   ],
   "source": [
    "plt.figure(figsize=(8,8))\n",
    "plt.scatter(C[:,0].data, C[:,1].data, s=200)\n",
    "for i in range(C.shape[0]):\n",
    "  plt.text(C[i,0].item(), C[i,1].item(), i2s[i],ha=\"center\",va=\"center\",color=\"white\")"
   ]
  },
  {
   "cell_type": "markdown",
   "metadata": {},
   "source": [
    "## Text Generation\n",
    "The trained model generates text one character at a time by sampling from the predicted probability distribution. The process:\n",
    "\n",
    "1. Initialize a context with zeros (representing the start of a word).\n",
    "2. Predict the next character using the embedding and network layers.\n",
    "3. Update the context and repeat until the end marker (`.`) is generated."
   ]
  },
  {
   "cell_type": "code",
   "execution_count": 250,
   "metadata": {},
   "outputs": [
    {
     "name": "stdout",
     "output_type": "stream",
     "text": [
      "yansyonne.\n",
      "amendlee.\n",
      "khalei.\n",
      "nya.\n",
      "try.\n",
      "wendeen.\n",
      "ena.\n",
      "daya.\n",
      "jiah.\n",
      "abdeles.\n",
      "lon.\n",
      "toy.\n",
      "ality.\n",
      "maugo.\n",
      "kandzello.\n",
      "jastri.\n",
      "xaina.\n",
      "lun.\n",
      "caylyn.\n",
      "zeriagreen.\n"
     ]
    }
   ],
   "source": [
    "g = torch.Generator().manual_seed(42)\n",
    "block_size = 3\n",
    "for _ in range(20):\n",
    "  out = []\n",
    "  context = [0]*block_size\n",
    "  while True:\n",
    "    emb = C[torch.tensor([context])] #(1,block_size,dim)\n",
    "    h = torch.tanh(emb.view(1,-1) @ W1 + b1)\n",
    "    logits = h @ W2 + b2\n",
    "    probs = F.softmax(logits, dim=1)\n",
    "    idx = torch.multinomial(probs,num_samples=1,generator=g).item()\n",
    "    context = context[1:] + [idx]\n",
    "    out.append(idx)\n",
    "    if idx == 0:\n",
    "      break\n",
    "  print(''.join(i2s[i] for i in out))"
   ]
  },
  {
   "cell_type": "markdown",
   "metadata": {},
   "source": [
    "## Summary\n",
    "The current implementation captures character-level dependencies but does not perform perfectly. Future improvements could include:\n",
    "\n",
    "* Adding more context,\n",
    "* Exploring deeper architectures,\n",
    "* Training on larger datasets.\n",
    "\n",
    "This notebook provides a solid foundation for further experiments in neural language modeling."
   ]
  }
 ],
 "metadata": {
  "kernelspec": {
   "display_name": "base",
   "language": "python",
   "name": "python3"
  },
  "language_info": {
   "codemirror_mode": {
    "name": "ipython",
    "version": 3
   },
   "file_extension": ".py",
   "mimetype": "text/x-python",
   "name": "python",
   "nbconvert_exporter": "python",
   "pygments_lexer": "ipython3",
   "version": "3.10.13"
  }
 },
 "nbformat": 4,
 "nbformat_minor": 2
}
