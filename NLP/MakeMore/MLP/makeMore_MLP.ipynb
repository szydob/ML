{
 "cells": [
  {
   "cell_type": "markdown",
   "metadata": {},
   "source": [
    "# MakeMore \n",
    "### Character-level language modeling\n",
    "based on [A Neural Probabilistic Language Model](https://www.jmlr.org/papers/volume3/bengio03a/bengio03a.pdf)\n",
    "\n",
    "processing and text generation operates at the level of individual characters."
   ]
  },
  {
   "cell_type": "code",
   "execution_count": 4,
   "metadata": {},
   "outputs": [],
   "source": [
    "import torch\n",
    "import torch.nn.functional as F\n",
    "import matplotlib.pyplot as plt\n",
    "%matplotlib inline"
   ]
  },
  {
   "cell_type": "code",
   "execution_count": 5,
   "metadata": {},
   "outputs": [
    {
     "data": {
      "text/plain": [
       "['emma',\n",
       " 'olivia',\n",
       " 'ava',\n",
       " 'isabella',\n",
       " 'sophia',\n",
       " 'charlotte',\n",
       " 'mia',\n",
       " 'amelia',\n",
       " 'harper',\n",
       " 'evelyn']"
      ]
     },
     "execution_count": 5,
     "metadata": {},
     "output_type": "execute_result"
    }
   ],
   "source": [
    "words = open('../names.txt', 'r').read().splitlines()\n",
    "words[:10]"
   ]
  },
  {
   "cell_type": "code",
   "execution_count": 6,
   "metadata": {},
   "outputs": [
    {
     "data": {
      "text/plain": [
       "32033"
      ]
     },
     "execution_count": 6,
     "metadata": {},
     "output_type": "execute_result"
    }
   ],
   "source": [
    "len(words)"
   ]
  },
  {
   "cell_type": "code",
   "execution_count": 8,
   "metadata": {},
   "outputs": [
    {
     "name": "stdout",
     "output_type": "stream",
     "text": [
      "{1: 'a', 2: 'b', 3: 'c', 4: 'd', 5: 'e', 6: 'f', 7: 'g', 8: 'h', 9: 'i', 10: 'j', 11: 'k', 12: 'l', 13: 'm', 14: 'n', 15: 'o', 16: 'p', 17: 'q', 18: 'r', 19: 's', 20: 't', 21: 'u', 22: 'v', 23: 'w', 24: 'x', 25: 'y', 26: 'z', 0: '.'}\n"
     ]
    }
   ],
   "source": [
    "chars = sorted(list(set(''.join(words))))\n",
    "s2i = {s:i+1 for i,s in enumerate(chars)}\n",
    "s2i['.'] = 0\n",
    "\n",
    "i2s = {i:s for s,i in s2i.items()}\n",
    "\n",
    "print(i2s)"
   ]
  },
  {
   "cell_type": "markdown",
   "metadata": {},
   "source": [
    "## Building dataset"
   ]
  },
  {
   "cell_type": "code",
   "execution_count": 10,
   "metadata": {},
   "outputs": [
    {
     "name": "stdout",
     "output_type": "stream",
     "text": [
      "emma\n",
      "... ---> e\n",
      "..e ---> m\n",
      ".em ---> m\n",
      "emm ---> a\n",
      "mma ---> .\n",
      "olivia\n",
      "... ---> o\n",
      "..o ---> l\n",
      ".ol ---> i\n",
      "oli ---> v\n",
      "liv ---> i\n",
      "ivi ---> a\n",
      "via ---> .\n",
      "ava\n",
      "... ---> a\n",
      "..a ---> v\n",
      ".av ---> a\n",
      "ava ---> .\n",
      "isabella\n",
      "... ---> i\n",
      "..i ---> s\n",
      ".is ---> a\n",
      "isa ---> b\n",
      "sab ---> e\n",
      "abe ---> l\n",
      "bel ---> l\n",
      "ell ---> a\n",
      "lla ---> .\n",
      "sophia\n",
      "... ---> s\n",
      "..s ---> o\n",
      ".so ---> p\n",
      "sop ---> h\n",
      "oph ---> i\n",
      "phi ---> a\n",
      "hia ---> .\n"
     ]
    }
   ],
   "source": [
    "block_size = 3 # context lenght: how many characters do we take to predict the next one\n",
    "\n",
    "X, Y = [], []\n",
    "\n",
    "for w in words[:5]:\n",
    "\n",
    "  print(w)\n",
    "\n",
    "  context = [0] * block_size\n",
    "  for ch in w + '.':\n",
    "    idx = s2i[ch]\n",
    "    X.append(context)\n",
    "    Y.append(idx)\n",
    "    print(''.join(i2s[i] for i in context), '--->', i2s[idx] )\n",
    "    context = context[1:] + [idx] # shift the context by one and add the new character\n",
    "\n",
    "X = torch.tensor(X)\n",
    "Y = torch.tensor(Y)\n"
   ]
  },
  {
   "cell_type": "code",
   "execution_count": 11,
   "metadata": {},
   "outputs": [
    {
     "data": {
      "text/plain": [
       "(torch.Size([32, 3]), torch.Size([32]))"
      ]
     },
     "execution_count": 11,
     "metadata": {},
     "output_type": "execute_result"
    }
   ],
   "source": [
    "X.shape, Y.shape"
   ]
  },
  {
   "cell_type": "code",
   "execution_count": 12,
   "metadata": {},
   "outputs": [
    {
     "data": {
      "text/plain": [
       "tensor([-1.6595, -0.2289])"
      ]
     },
     "execution_count": 12,
     "metadata": {},
     "output_type": "execute_result"
    }
   ],
   "source": [
    "C = torch.randn((27,2)) # 27 characters, 2 dimensions"
   ]
  },
  {
   "cell_type": "code",
   "execution_count": 13,
   "metadata": {},
   "outputs": [
    {
     "data": {
      "text/plain": [
       "torch.Size([32, 3, 2])"
      ]
     },
     "execution_count": 13,
     "metadata": {},
     "output_type": "execute_result"
    }
   ],
   "source": [
    "emb = C[X]\n",
    "emb.shape"
   ]
  },
  {
   "cell_type": "code",
   "execution_count": 14,
   "metadata": {},
   "outputs": [],
   "source": [
    "W1 = torch.randn((6,100))\n",
    "b1 = torch.randn(100)"
   ]
  },
  {
   "cell_type": "code",
   "execution_count": 19,
   "metadata": {},
   "outputs": [
    {
     "data": {
      "text/plain": [
       "tensor([[ 1.2433, -1.0059,  1.2433, -1.0059,  1.2433, -1.0059],\n",
       "        [ 1.2433, -1.0059,  1.2433, -1.0059, -1.6595, -0.2289],\n",
       "        [ 1.2433, -1.0059, -1.6595, -0.2289,  0.0682, -0.3035],\n",
       "        [-1.6595, -0.2289,  0.0682, -0.3035,  0.0682, -0.3035],\n",
       "        [ 0.0682, -0.3035,  0.0682, -0.3035, -0.5134, -1.8056],\n",
       "        [ 1.2433, -1.0059,  1.2433, -1.0059,  1.2433, -1.0059],\n",
       "        [ 1.2433, -1.0059,  1.2433, -1.0059, -0.1179,  0.2245],\n",
       "        [ 1.2433, -1.0059, -0.1179,  0.2245, -0.0829,  0.1921],\n",
       "        [-0.1179,  0.2245, -0.0829,  0.1921,  0.7625, -1.7553],\n",
       "        [-0.0829,  0.1921,  0.7625, -1.7553, -1.5583,  1.2419],\n",
       "        [ 0.7625, -1.7553, -1.5583,  1.2419,  0.7625, -1.7553],\n",
       "        [-1.5583,  1.2419,  0.7625, -1.7553, -0.5134, -1.8056],\n",
       "        [ 1.2433, -1.0059,  1.2433, -1.0059,  1.2433, -1.0059],\n",
       "        [ 1.2433, -1.0059,  1.2433, -1.0059, -0.5134, -1.8056],\n",
       "        [ 1.2433, -1.0059, -0.5134, -1.8056, -1.5583,  1.2419],\n",
       "        [-0.5134, -1.8056, -1.5583,  1.2419, -0.5134, -1.8056],\n",
       "        [ 1.2433, -1.0059,  1.2433, -1.0059,  1.2433, -1.0059],\n",
       "        [ 1.2433, -1.0059,  1.2433, -1.0059,  0.7625, -1.7553],\n",
       "        [ 1.2433, -1.0059,  0.7625, -1.7553,  1.2558, -0.4561],\n",
       "        [ 0.7625, -1.7553,  1.2558, -0.4561, -0.5134, -1.8056],\n",
       "        [ 1.2558, -0.4561, -0.5134, -1.8056,  1.0332, -0.5402],\n",
       "        [-0.5134, -1.8056,  1.0332, -0.5402, -1.6595, -0.2289],\n",
       "        [ 1.0332, -0.5402, -1.6595, -0.2289, -0.0829,  0.1921],\n",
       "        [-1.6595, -0.2289, -0.0829,  0.1921, -0.0829,  0.1921],\n",
       "        [-0.0829,  0.1921, -0.0829,  0.1921, -0.5134, -1.8056],\n",
       "        [ 1.2433, -1.0059,  1.2433, -1.0059,  1.2433, -1.0059],\n",
       "        [ 1.2433, -1.0059,  1.2433, -1.0059,  1.2558, -0.4561],\n",
       "        [ 1.2433, -1.0059,  1.2558, -0.4561, -0.1179,  0.2245],\n",
       "        [ 1.2558, -0.4561, -0.1179,  0.2245, -0.9076,  0.1786],\n",
       "        [-0.1179,  0.2245, -0.9076,  0.1786,  2.3181, -0.5507],\n",
       "        [-0.9076,  0.1786,  2.3181, -0.5507,  0.7625, -1.7553],\n",
       "        [ 2.3181, -0.5507,  0.7625, -1.7553, -0.5134, -1.8056]])"
      ]
     },
     "execution_count": 19,
     "metadata": {},
     "output_type": "execute_result"
    }
   ],
   "source": [
    "torch.cat(torch.unbind(emb,1), dim=1)"
   ]
  },
  {
   "cell_type": "code",
   "execution_count": null,
   "metadata": {},
   "outputs": [],
   "source": []
  }
 ],
 "metadata": {
  "kernelspec": {
   "display_name": "base",
   "language": "python",
   "name": "python3"
  },
  "language_info": {
   "codemirror_mode": {
    "name": "ipython",
    "version": 3
   },
   "file_extension": ".py",
   "mimetype": "text/x-python",
   "name": "python",
   "nbconvert_exporter": "python",
   "pygments_lexer": "ipython3",
   "version": "3.10.13"
  }
 },
 "nbformat": 4,
 "nbformat_minor": 2
}
